{
 "cells": [
  {
   "cell_type": "code",
   "execution_count": 164,
   "id": "0c09a1da-6af6-46ea-8f10-78695214e3c6",
   "metadata": {},
   "outputs": [],
   "source": [
    "import pandas as pd\n",
    "import google.generativeai as genai\n",
    "import os\n",
    "import pandas as pd\n",
    "import tiktoken\n",
    "import numpy as np\n",
    "from dotenv import load_dotenv\n",
    "import vertexai\n",
    "from vertexai.language_models import TextEmbeddingInput, TextEmbeddingModel\n",
    "from vertexai.preview import rag,reasoning_engines\n",
    "from vertexai.preview.generative_models import GenerativeModel, Tool\n",
    "from langchain_google_vertexai import HarmBlockThreshold, HarmCategory\n",
    "from google.oauth2 import service_account\n",
    "\n",
    "load_dotenv()\n",
    "genai.configure(api_key=os.environ[\"API_KEY\"])"
   ]
  },
  {
   "cell_type": "code",
   "execution_count": 56,
   "id": "ca2d60a9-c6ff-4088-81b5-a110db16b7bc",
   "metadata": {
    "tags": []
   },
   "outputs": [],
   "source": [
    "google_storage_bucket=\"vertex-ai-hack\"\n",
    "google_storage_bucket_link=\"gs://{}\".format(google_storage_bucket)\n",
    "data_bucket=\"{}/data/\".format(google_storage_bucket_link)\n",
    "project_id=\"hackhathon-438922\""
   ]
  },
  {
   "cell_type": "code",
   "execution_count": 57,
   "id": "ca0a787b-93ae-40e4-aab4-e4c6ae9e885e",
   "metadata": {
    "tags": []
   },
   "outputs": [],
   "source": [
    "credentials = service_account.Credentials.from_service_account_file('./keys/hackhathon-438922-0a5870e658d5.json')\n",
    "\n",
    "vertexai.init(\n",
    "    project=project_id,\n",
    "    location=\"us-central1\",\n",
    "    staging_bucket=\"gs://{}\".format(google_storage_bucket),\n",
    "    credentials=credentials\n",
    ")"
   ]
  },
  {
   "cell_type": "code",
   "execution_count": 97,
   "id": "d8fa38c0-e80b-4b26-9385-08c3aa000053",
   "metadata": {},
   "outputs": [],
   "source": [
    "def get_embeddings( title, content, task_type=\"retrieval_document\" ):\n",
    "    kwargs = {\n",
    "        \"model\": \"models/text-embedding-004\",\n",
    "        \"task_type\":\"retrieval_document\",\n",
    "        \"title\":title\n",
    "    }\n",
    "    result = genai.embed_content(\n",
    "        **kwargs,\n",
    "        content=content,\n",
    "    )\n",
    "    \n",
    "    return result['embedding']"
   ]
  },
  {
   "cell_type": "code",
   "execution_count": 60,
   "id": "ebcf0232-87c4-416b-ab12-ab942ae096d3",
   "metadata": {},
   "outputs": [],
   "source": [
    "def num_tokens_from_string(string: str, encoding_name = \"cl100k_base\") -> int:\n",
    "    if not string:\n",
    "        return 0\n",
    "    # Returns the number of tokens in a text string\n",
    "    encoding = tiktoken.get_encoding(encoding_name)\n",
    "    num_tokens = len(encoding.encode(string))\n",
    "    return num_tokens"
   ]
  },
  {
   "cell_type": "code",
   "execution_count": 7,
   "id": "1944bf80-ba65-4778-84ec-44b969109609",
   "metadata": {
    "tags": []
   },
   "outputs": [],
   "source": [
    "regulations_df = pd.read_csv('./dataset/ai_act_regulations.csv')"
   ]
  },
  {
   "cell_type": "code",
   "execution_count": null,
   "id": "3ea477ba-b886-4724-a8a3-ab756ce338f1",
   "metadata": {},
   "outputs": [],
   "source": [
    "regulations_df['content'] = regulations_df.apply(lambda p:)"
   ]
  },
  {
   "cell_type": "code",
   "execution_count": 45,
   "id": "7c42d47f-a0b1-40fd-b2e8-424370a70833",
   "metadata": {
    "tags": []
   },
   "outputs": [],
   "source": [
    "list = []\n",
    "for i,row in enumerate(regulations_df.iterrows()):\n",
    "    temp = [regulations_df['article_number'][i], regulations_df['article_title'][i]]\n",
    "    text = \"Chapter: {}\\n Section: {}\\n Article: {}\\n {}\".format(regulations_df['chapter_title'][i],\n",
    "                                                                                         regulations_df['section_title'][i] if regulations_df['section_title'][i] != \"nan\" else \"\",\n",
    "                                                                                         regulations_df['article_title'][i],\n",
    "                                                                                         regulations_df['article_text'][i])\n",
    "    temp.append(text)\n",
    "    list.append(temp)"
   ]
  },
  {
   "cell_type": "code",
   "execution_count": 46,
   "id": "df675d66-60c9-4d0a-97c4-88f9accdbb7e",
   "metadata": {
    "tags": []
   },
   "outputs": [],
   "source": [
    "regulations_df_articles = pd.DataFrame(list, columns=['article_number', 'article_title', 'content'])"
   ]
  },
  {
   "cell_type": "code",
   "execution_count": 119,
   "id": "360eed66-fa61-49ca-88a4-d458c5404a12",
   "metadata": {
    "tags": []
   },
   "outputs": [
    {
     "data": {
      "text/html": [
       "<div>\n",
       "<style scoped>\n",
       "    .dataframe tbody tr th:only-of-type {\n",
       "        vertical-align: middle;\n",
       "    }\n",
       "\n",
       "    .dataframe tbody tr th {\n",
       "        vertical-align: top;\n",
       "    }\n",
       "\n",
       "    .dataframe thead th {\n",
       "        text-align: right;\n",
       "    }\n",
       "</style>\n",
       "<table border=\"1\" class=\"dataframe\">\n",
       "  <thead>\n",
       "    <tr style=\"text-align: right;\">\n",
       "      <th></th>\n",
       "      <th>article_number</th>\n",
       "      <th>article_title</th>\n",
       "      <th>content</th>\n",
       "      <th>num_of_tokens</th>\n",
       "    </tr>\n",
       "  </thead>\n",
       "  <tbody>\n",
       "    <tr>\n",
       "      <th>2</th>\n",
       "      <td>3</td>\n",
       "      <td>Definitions</td>\n",
       "      <td>Chapter: GENERAL PROVISIONS\\n Section: nan\\n A...</td>\n",
       "      <td>3314</td>\n",
       "    </tr>\n",
       "    <tr>\n",
       "      <th>4</th>\n",
       "      <td>5</td>\n",
       "      <td>Prohibited AI practices</td>\n",
       "      <td>Chapter: PROHIBITED AI PRACTICES\\n Section: na...</td>\n",
       "      <td>2075</td>\n",
       "    </tr>\n",
       "    <tr>\n",
       "      <th>56</th>\n",
       "      <td>57</td>\n",
       "      <td>AI regulatory sandboxes</td>\n",
       "      <td>Chapter: MEASURES IN SUPPORT OF INNOVATION\\n S...</td>\n",
       "      <td>1612</td>\n",
       "    </tr>\n",
       "    <tr>\n",
       "      <th>25</th>\n",
       "      <td>26</td>\n",
       "      <td>Obligations of deployers of high-risk AI systems</td>\n",
       "      <td>Chapter: HIGH-RISK AI SYSTEMS\\n Section: Oblig...</td>\n",
       "      <td>1486</td>\n",
       "    </tr>\n",
       "    <tr>\n",
       "      <th>59</th>\n",
       "      <td>60</td>\n",
       "      <td>Testing of high-risk AI systems in real world ...</td>\n",
       "      <td>Chapter: MEASURES IN SUPPORT OF INNOVATION\\n S...</td>\n",
       "      <td>1476</td>\n",
       "    </tr>\n",
       "  </tbody>\n",
       "</table>\n",
       "</div>"
      ],
      "text/plain": [
       "    article_number                                      article_title  \\\n",
       "2                3                                        Definitions   \n",
       "4                5                            Prohibited AI practices   \n",
       "56              57                            AI regulatory sandboxes   \n",
       "25              26   Obligations of deployers of high-risk AI systems   \n",
       "59              60  Testing of high-risk AI systems in real world ...   \n",
       "\n",
       "                                              content  num_of_tokens  \n",
       "2   Chapter: GENERAL PROVISIONS\\n Section: nan\\n A...           3314  \n",
       "4   Chapter: PROHIBITED AI PRACTICES\\n Section: na...           2075  \n",
       "56  Chapter: MEASURES IN SUPPORT OF INNOVATION\\n S...           1612  \n",
       "25  Chapter: HIGH-RISK AI SYSTEMS\\n Section: Oblig...           1486  \n",
       "59  Chapter: MEASURES IN SUPPORT OF INNOVATION\\n S...           1476  "
      ]
     },
     "execution_count": 119,
     "metadata": {},
     "output_type": "execute_result"
    }
   ],
   "source": [
    "regulations_df_articles.sort_values(['num_of_tokens'], ascending=False).head()"
   ]
  },
  {
   "cell_type": "code",
   "execution_count": 48,
   "id": "142485df-2c05-465d-b50a-4b533adbd0f2",
   "metadata": {
    "tags": []
   },
   "outputs": [],
   "source": [
    "regulations_df_articles['num_of_tokens'] = regulations_df_articles.content.apply(lambda p: num_tokens_from_string(p))"
   ]
  },
  {
   "cell_type": "code",
   "execution_count": 291,
   "id": "16c1162a-1cc2-4d65-9f3d-ed250106119f",
   "metadata": {
    "tags": []
   },
   "outputs": [],
   "source": [
    "list = []\n",
    "for i in range(len(regulations_df_articles.index)):\n",
    "    number, title, text = regulations_df_articles['article_number'][i], regulations_df_articles['article_title'][i], regulations_df_articles['content'][i]\n",
    "    token_len = regulations_df_articles['num_of_tokens'][i]\n",
    "    temp = [number, title, text, token_len]\n",
    "    if (token_len > 2048 ):\n",
    "        characters = token_len*4\n",
    "        first_segment = 2048*4\n",
    "        second_segment = characters - first_segment\n",
    "        first_segment_text = text[:first_segment]\n",
    "        labels = first_segment_text.split('\\n')[0:3]\n",
    "        labels[2] = labels[2] + \" (continuation)\"\n",
    "        second_segment_text = text[first_segment+1:]\n",
    "        second_segment_text = \"{}\\n{}\".format('\\n'.join(labels), second_segment_text)\n",
    "        first_segment_tokens = num_tokens_from_string(first_segment_text)\n",
    "        second_segment_tokens = num_tokens_from_string(second_segment_text)\n",
    "        first_segment_embeddings = get_embeddings(title, first_segment_text)\n",
    "        second_segment_embeddings = get_embeddings(title, second_segment_text)\n",
    "        list.append([number, title, first_segment_text,first_segment_tokens,first_segment_embeddings])\n",
    "        list.append([number, title, second_segment_text,second_segment_tokens,second_segment_embeddings])\n",
    "    else:\n",
    "        embedding = get_embeddings(title, text)\n",
    "        temp.append(embedding)\n",
    "        list.append(temp)\n",
    "        \n",
    "    "
   ]
  },
  {
   "cell_type": "code",
   "execution_count": 299,
   "id": "1a6ee50e-0b4d-424b-9930-0126b0a5f3cb",
   "metadata": {
    "tags": []
   },
   "outputs": [],
   "source": [
    "articles_embedded_df = pd.DataFrame(list, columns=['article_number', 'article_title', 'chunk_data', 'tokens', 'embeddings'])"
   ]
  },
  {
   "cell_type": "code",
   "execution_count": 300,
   "id": "3aaee7b0-f96a-488b-ace2-f5166c1a150d",
   "metadata": {
    "tags": []
   },
   "outputs": [],
   "source": [
    "articles_embedded_df['file_id'] = f\"{google_storage_bucket_link}/dataset/ai_act_regulations_with_embeddings.csv\""
   ]
  },
  {
   "cell_type": "code",
   "execution_count": 301,
   "id": "a5835632-284f-4e5a-a726-0bad3695940b",
   "metadata": {
    "tags": []
   },
   "outputs": [
    {
     "data": {
      "text/html": [
       "<div>\n",
       "<style scoped>\n",
       "    .dataframe tbody tr th:only-of-type {\n",
       "        vertical-align: middle;\n",
       "    }\n",
       "\n",
       "    .dataframe tbody tr th {\n",
       "        vertical-align: top;\n",
       "    }\n",
       "\n",
       "    .dataframe thead th {\n",
       "        text-align: right;\n",
       "    }\n",
       "</style>\n",
       "<table border=\"1\" class=\"dataframe\">\n",
       "  <thead>\n",
       "    <tr style=\"text-align: right;\">\n",
       "      <th></th>\n",
       "      <th>article_number</th>\n",
       "      <th>article_title</th>\n",
       "      <th>chunk_data</th>\n",
       "      <th>tokens</th>\n",
       "      <th>embeddings</th>\n",
       "      <th>file_id</th>\n",
       "    </tr>\n",
       "  </thead>\n",
       "  <tbody>\n",
       "    <tr>\n",
       "      <th>0</th>\n",
       "      <td>1</td>\n",
       "      <td>Subject matter</td>\n",
       "      <td>Chapter: GENERAL PROVISIONS\\n Section: nan\\n A...</td>\n",
       "      <td>220</td>\n",
       "      <td>[-0.045846753, 0.033218704, 0.0119536845, -0.0...</td>\n",
       "      <td>gs://vertex-ai-hack/dataset/ai_act_regulations...</td>\n",
       "    </tr>\n",
       "    <tr>\n",
       "      <th>1</th>\n",
       "      <td>2</td>\n",
       "      <td>Scope</td>\n",
       "      <td>Chapter: GENERAL PROVISIONS\\n Section: nan\\n A...</td>\n",
       "      <td>929</td>\n",
       "      <td>[-0.00471153, 0.03327254, -0.03335749, -0.0061...</td>\n",
       "      <td>gs://vertex-ai-hack/dataset/ai_act_regulations...</td>\n",
       "    </tr>\n",
       "    <tr>\n",
       "      <th>2</th>\n",
       "      <td>3</td>\n",
       "      <td>Definitions</td>\n",
       "      <td>Chapter: GENERAL PROVISIONS\\n Section: nan\\n A...</td>\n",
       "      <td>1646</td>\n",
       "      <td>[-0.006802297, 0.019587621, -0.014258634, -0.0...</td>\n",
       "      <td>gs://vertex-ai-hack/dataset/ai_act_regulations...</td>\n",
       "    </tr>\n",
       "    <tr>\n",
       "      <th>3</th>\n",
       "      <td>3</td>\n",
       "      <td>Definitions</td>\n",
       "      <td>Chapter: GENERAL PROVISIONS\\n Section: nan\\n A...</td>\n",
       "      <td>1687</td>\n",
       "      <td>[0.013903835, 0.02562094, -0.017638592, -0.016...</td>\n",
       "      <td>gs://vertex-ai-hack/dataset/ai_act_regulations...</td>\n",
       "    </tr>\n",
       "    <tr>\n",
       "      <th>4</th>\n",
       "      <td>4</td>\n",
       "      <td>AI literacy</td>\n",
       "      <td>Chapter: GENERAL PROVISIONS\\n Section: nan\\n A...</td>\n",
       "      <td>101</td>\n",
       "      <td>[-0.0050897873, 0.04631556, -0.034699276, -0.0...</td>\n",
       "      <td>gs://vertex-ai-hack/dataset/ai_act_regulations...</td>\n",
       "    </tr>\n",
       "  </tbody>\n",
       "</table>\n",
       "</div>"
      ],
      "text/plain": [
       "   article_number   article_title  \\\n",
       "0               1  Subject matter   \n",
       "1               2           Scope   \n",
       "2               3     Definitions   \n",
       "3               3     Definitions   \n",
       "4               4     AI literacy   \n",
       "\n",
       "                                          chunk_data  tokens  \\\n",
       "0  Chapter: GENERAL PROVISIONS\\n Section: nan\\n A...     220   \n",
       "1  Chapter: GENERAL PROVISIONS\\n Section: nan\\n A...     929   \n",
       "2  Chapter: GENERAL PROVISIONS\\n Section: nan\\n A...    1646   \n",
       "3  Chapter: GENERAL PROVISIONS\\n Section: nan\\n A...    1687   \n",
       "4  Chapter: GENERAL PROVISIONS\\n Section: nan\\n A...     101   \n",
       "\n",
       "                                          embeddings  \\\n",
       "0  [-0.045846753, 0.033218704, 0.0119536845, -0.0...   \n",
       "1  [-0.00471153, 0.03327254, -0.03335749, -0.0061...   \n",
       "2  [-0.006802297, 0.019587621, -0.014258634, -0.0...   \n",
       "3  [0.013903835, 0.02562094, -0.017638592, -0.016...   \n",
       "4  [-0.0050897873, 0.04631556, -0.034699276, -0.0...   \n",
       "\n",
       "                                             file_id  \n",
       "0  gs://vertex-ai-hack/dataset/ai_act_regulations...  \n",
       "1  gs://vertex-ai-hack/dataset/ai_act_regulations...  \n",
       "2  gs://vertex-ai-hack/dataset/ai_act_regulations...  \n",
       "3  gs://vertex-ai-hack/dataset/ai_act_regulations...  \n",
       "4  gs://vertex-ai-hack/dataset/ai_act_regulations...  "
      ]
     },
     "execution_count": 301,
     "metadata": {},
     "output_type": "execute_result"
    }
   ],
   "source": [
    "articles_embedded_df.head()"
   ]
  },
  {
   "cell_type": "code",
   "execution_count": 302,
   "id": "84c431cd-b35a-4300-ad74-82cadb25f8d5",
   "metadata": {
    "tags": []
   },
   "outputs": [],
   "source": [
    "articles_embedded_df.to_csv('./dataset/ai_act_regulations_with_embeddings.csv', index=False)"
   ]
  },
  {
   "cell_type": "code",
   "execution_count": 152,
   "id": "2089b740-19db-4687-a0bf-1a807c5038a9",
   "metadata": {
    "tags": []
   },
   "outputs": [],
   "source": [
    "question_embedding = get_embeddings(None, \"What does 'emotion recognition system' mean in the act?\", \"QUESTION_ANSWERING\")"
   ]
  },
  {
   "cell_type": "code",
   "execution_count": 145,
   "id": "d788820a-ff2c-4d48-bb8c-65301367b144",
   "metadata": {
    "tags": []
   },
   "outputs": [],
   "source": [
    "def get_dot_product(text_embedding, question_embedding=\"\"):\n",
    "    return np.dot(text_embedding, question_embedding)"
   ]
  },
  {
   "cell_type": "code",
   "execution_count": 303,
   "id": "688c10b0-7540-4c8a-b92f-9fa8ba8bdc4a",
   "metadata": {
    "tags": []
   },
   "outputs": [],
   "source": [
    "articles_embedded_df['distance'] = articles_embedded_df.embeddings.apply(lambda p: get_dot_product(p, question_embedding))"
   ]
  },
  {
   "cell_type": "code",
   "execution_count": 304,
   "id": "22ce485a-4bd3-4631-98ec-8d0775f95957",
   "metadata": {
    "tags": []
   },
   "outputs": [
    {
     "data": {
      "text/html": [
       "<div>\n",
       "<style scoped>\n",
       "    .dataframe tbody tr th:only-of-type {\n",
       "        vertical-align: middle;\n",
       "    }\n",
       "\n",
       "    .dataframe tbody tr th {\n",
       "        vertical-align: top;\n",
       "    }\n",
       "\n",
       "    .dataframe thead th {\n",
       "        text-align: right;\n",
       "    }\n",
       "</style>\n",
       "<table border=\"1\" class=\"dataframe\">\n",
       "  <thead>\n",
       "    <tr style=\"text-align: right;\">\n",
       "      <th></th>\n",
       "      <th>article_number</th>\n",
       "      <th>article_title</th>\n",
       "      <th>chunk_data</th>\n",
       "      <th>tokens</th>\n",
       "      <th>embeddings</th>\n",
       "      <th>file_id</th>\n",
       "      <th>distance</th>\n",
       "    </tr>\n",
       "  </thead>\n",
       "  <tbody>\n",
       "    <tr>\n",
       "      <th>2</th>\n",
       "      <td>3</td>\n",
       "      <td>Definitions</td>\n",
       "      <td>Chapter: GENERAL PROVISIONS\\n Section: nan\\n A...</td>\n",
       "      <td>1646</td>\n",
       "      <td>[-0.006802297, 0.019587621, -0.014258634, -0.0...</td>\n",
       "      <td>gs://vertex-ai-hack/dataset/ai_act_regulations...</td>\n",
       "      <td>0.674218</td>\n",
       "    </tr>\n",
       "    <tr>\n",
       "      <th>3</th>\n",
       "      <td>3</td>\n",
       "      <td>Definitions</td>\n",
       "      <td>Chapter: GENERAL PROVISIONS\\n Section: nan\\n A...</td>\n",
       "      <td>1687</td>\n",
       "      <td>[0.013903835, 0.02562094, -0.017638592, -0.016...</td>\n",
       "      <td>gs://vertex-ai-hack/dataset/ai_act_regulations...</td>\n",
       "      <td>0.661552</td>\n",
       "    </tr>\n",
       "    <tr>\n",
       "      <th>5</th>\n",
       "      <td>5</td>\n",
       "      <td>Prohibited AI practices</td>\n",
       "      <td>Chapter: PROHIBITED AI PRACTICES\\n Section: na...</td>\n",
       "      <td>1548</td>\n",
       "      <td>[-0.014715451, -0.00017980096, -0.03006157, -0...</td>\n",
       "      <td>gs://vertex-ai-hack/dataset/ai_act_regulations...</td>\n",
       "      <td>0.656855</td>\n",
       "    </tr>\n",
       "    <tr>\n",
       "      <th>51</th>\n",
       "      <td>50</td>\n",
       "      <td>Transparency obligations for providers and dep...</td>\n",
       "      <td>Chapter: TRANSPARENCY OBLIGATIONS FOR PROVIDER...</td>\n",
       "      <td>912</td>\n",
       "      <td>[-0.011190878, 0.04778545, -0.012691616, -0.04...</td>\n",
       "      <td>gs://vertex-ai-hack/dataset/ai_act_regulations...</td>\n",
       "      <td>0.641274</td>\n",
       "    </tr>\n",
       "    <tr>\n",
       "      <th>6</th>\n",
       "      <td>5</td>\n",
       "      <td>Prohibited AI practices</td>\n",
       "      <td>Chapter: PROHIBITED AI PRACTICES\\n Section: na...</td>\n",
       "      <td>554</td>\n",
       "      <td>[-0.017545851, 0.026869344, -0.0019566123, -0....</td>\n",
       "      <td>gs://vertex-ai-hack/dataset/ai_act_regulations...</td>\n",
       "      <td>0.638130</td>\n",
       "    </tr>\n",
       "  </tbody>\n",
       "</table>\n",
       "</div>"
      ],
      "text/plain": [
       "    article_number                                      article_title  \\\n",
       "2                3                                        Definitions   \n",
       "3                3                                        Definitions   \n",
       "5                5                            Prohibited AI practices   \n",
       "51              50  Transparency obligations for providers and dep...   \n",
       "6                5                            Prohibited AI practices   \n",
       "\n",
       "                                           chunk_data  tokens  \\\n",
       "2   Chapter: GENERAL PROVISIONS\\n Section: nan\\n A...    1646   \n",
       "3   Chapter: GENERAL PROVISIONS\\n Section: nan\\n A...    1687   \n",
       "5   Chapter: PROHIBITED AI PRACTICES\\n Section: na...    1548   \n",
       "51  Chapter: TRANSPARENCY OBLIGATIONS FOR PROVIDER...     912   \n",
       "6   Chapter: PROHIBITED AI PRACTICES\\n Section: na...     554   \n",
       "\n",
       "                                           embeddings  \\\n",
       "2   [-0.006802297, 0.019587621, -0.014258634, -0.0...   \n",
       "3   [0.013903835, 0.02562094, -0.017638592, -0.016...   \n",
       "5   [-0.014715451, -0.00017980096, -0.03006157, -0...   \n",
       "51  [-0.011190878, 0.04778545, -0.012691616, -0.04...   \n",
       "6   [-0.017545851, 0.026869344, -0.0019566123, -0....   \n",
       "\n",
       "                                              file_id  distance  \n",
       "2   gs://vertex-ai-hack/dataset/ai_act_regulations...  0.674218  \n",
       "3   gs://vertex-ai-hack/dataset/ai_act_regulations...  0.661552  \n",
       "5   gs://vertex-ai-hack/dataset/ai_act_regulations...  0.656855  \n",
       "51  gs://vertex-ai-hack/dataset/ai_act_regulations...  0.641274  \n",
       "6   gs://vertex-ai-hack/dataset/ai_act_regulations...  0.638130  "
      ]
     },
     "execution_count": 304,
     "metadata": {},
     "output_type": "execute_result"
    }
   ],
   "source": [
    "articles_embedded_df.sort_values(['distance'], ascending=False).head()"
   ]
  },
  {
   "cell_type": "code",
   "execution_count": 305,
   "id": "c598847e-7a83-4daf-a2c2-5da707ec9131",
   "metadata": {
    "tags": []
   },
   "outputs": [],
   "source": [
    "from google.cloud import storage\n",
    "\n",
    "def upload_blob(bucket_name, source_file_name, destination_blob_name):\n",
    "    \"\"\"Uploads a file to the bucket.\"\"\"\n",
    "    # The ID of your GCS bucket\n",
    "    # bucket_name = \"your-bucket-name\"\n",
    "    # The path to your file to upload\n",
    "    # source_file_name = \"local/path/to/file\"\n",
    "    # The ID of your GCS object\n",
    "    # destination_blob_name = \"storage-object-name\"\n",
    "\n",
    "    storage_client = storage.Client(project=project_id, credentials=credentials)\n",
    "    bucket = storage_client.bucket(bucket_name)\n",
    "    blob = bucket.blob(destination_blob_name)\n",
    "\n",
    "    # Optional: set a generation-match precondition to avoid potential race conditions\n",
    "    # and data corruptions. The request to upload is aborted if the object's\n",
    "    # generation number does not match your precondition. For a destination\n",
    "    # object that does not yet exist, set the if_generation_match precondition to 0.\n",
    "    # If the destination object already exists in your bucket, set instead a\n",
    "    # generation-match precondition using its generation number.\n",
    "    generation_match_precondition = 0\n",
    "\n",
    "    blob.upload_from_filename(source_file_name, if_generation_match=generation_match_precondition)\n",
    "\n",
    "    print(\n",
    "        f\"File {source_file_name} uploaded to {destination_blob_name}.\"\n",
    "    )\n"
   ]
  },
  {
   "cell_type": "code",
   "execution_count": 306,
   "id": "13440a74-80ec-461e-b622-f414d0ead33f",
   "metadata": {
    "tags": []
   },
   "outputs": [
    {
     "name": "stdout",
     "output_type": "stream",
     "text": [
      "File ./dataset/ai_act_regulations_with_embeddings.csv uploaded to dataset/ai_act_regulations_with_embeddings_2.csv.\n"
     ]
    }
   ],
   "source": [
    "upload_blob(google_storage_bucket, './dataset/ai_act_regulations_with_embeddings.csv','dataset/ai_act_regulations_with_embeddings_2.csv')"
   ]
  },
  {
   "cell_type": "code",
   "execution_count": 308,
   "id": "d205c3e5-5ea2-403e-828b-2ca994e0779c",
   "metadata": {
    "tags": []
   },
   "outputs": [],
   "source": [
    "link_to_file = f\"{google_storage_bucket_link}/dataset/ai_act_regulations_with_embeddings_2.csv\""
   ]
  },
  {
   "cell_type": "code",
   "execution_count": 234,
   "id": "b3d30b8a-1142-4651-b375-3e666c76a2ff",
   "metadata": {
    "tags": []
   },
   "outputs": [
    {
     "name": "stdout",
     "output_type": "stream",
     "text": [
      "dataset hackhathon_ai_act_rag already exists\n"
     ]
    }
   ],
   "source": [
    "from google.cloud import bigquery\n",
    "from google.api_core.exceptions import Conflict\n",
    "\n",
    "dataset_id = 'hackhathon-438922.hackhathon_ai_act_rag'\n",
    "\n",
    "client = bigquery.Client(credentials=credentials, project=project_id)\n",
    "\n",
    "dataset = bigquery.Dataset(dataset_id)\n",
    "\n",
    "dataset.location = \"US\"\n",
    "\n",
    "# Send the dataset to the API for creation\n",
    "try:\n",
    "    dataset = client.create_dataset(dataset, timeout=30)\n",
    "    print(f\"Created dataset {client.project}.{dataset.dataset_id}\")\n",
    "except Conflict:\n",
    "    print(f\"dataset {dataset.dataset_id } already exists\")"
   ]
  },
  {
   "cell_type": "code",
   "execution_count": 314,
   "id": "c2569905-3e97-4302-8cd1-967cb01ec003",
   "metadata": {
    "tags": []
   },
   "outputs": [],
   "source": [
    "final_schema = [\n",
    "    bigquery.SchemaField(\"article_number\", \"INT64\"),\n",
    "    bigquery.SchemaField(\"article_title\", \"STRING\"),\n",
    "    bigquery.SchemaField(\"file_id\", \"STRING\"),\n",
    "    bigquery.SchemaField(\"tokens\", \"INT64\"),\n",
    "    bigquery.SchemaField(\"chunk_data\", \"STRING\"),\n",
    "    bigquery.SchemaField(\"embeddings\", \"ARRAY<FLOAT64>\", mode=\"REPEATED\"),\n",
    "]"
   ]
  },
  {
   "cell_type": "code",
   "execution_count": 311,
   "id": "ba2090c0-1302-4f72-8695-a9b2c8c58980",
   "metadata": {
    "tags": []
   },
   "outputs": [],
   "source": [
    "rag_table = 'hackhathon-438922.hackhathon_ai_act_rag.ai_act_embedded'"
   ]
  },
  {
   "cell_type": "code",
   "execution_count": 315,
   "id": "31e09cb5-854b-455d-9a0d-3cbd1426a722",
   "metadata": {
    "tags": []
   },
   "outputs": [],
   "source": [
    "final_table = bigquery.Table(rag_table, schema=final_schema)"
   ]
  },
  {
   "cell_type": "code",
   "execution_count": 317,
   "id": "723bee45-5910-4ff6-a43b-9660678505fc",
   "metadata": {
    "tags": []
   },
   "outputs": [],
   "source": [
    "final_table = client.get_table(final_table) "
   ]
  },
  {
   "cell_type": "code",
   "execution_count": 318,
   "id": "d0141f48-688c-45f5-b168-bdd6bfb542bb",
   "metadata": {
    "tags": []
   },
   "outputs": [
    {
     "name": "stdout",
     "output_type": "stream",
     "text": [
      "Created final table hackhathon-438922.hackhathon_ai_act_rag.ai_act_embedded\n"
     ]
    }
   ],
   "source": [
    "print(f\"Created final table {project_id}.{final_table.dataset_id}.{final_table.table_id}\")"
   ]
  },
  {
   "cell_type": "code",
   "execution_count": 319,
   "id": "55af7508-6437-4743-a6a2-0f5f91606055",
   "metadata": {
    "tags": []
   },
   "outputs": [],
   "source": [
    "rows_to_insert = x.to_dict(orient='records')"
   ]
  },
  {
   "cell_type": "code",
   "execution_count": 320,
   "id": "ef71c748-c4fa-462b-b53b-df20f2952013",
   "metadata": {
    "tags": []
   },
   "outputs": [
    {
     "name": "stdout",
     "output_type": "stream",
     "text": [
      "Successfully loaded data into hackhathon_ai_act_rag.ai_act_embedded\n"
     ]
    }
   ],
   "source": [
    "errors = client.insert_rows_json(f\"{final_table.dataset_id}.{final_table.table_id}\", rows_to_insert)  # API request\n",
    "\n",
    "if errors:\n",
    "    print(f\"Encountered errors while inserting rows: {errors}\")\n",
    "else:\n",
    "    print(f\"Successfully loaded data into {final_table.dataset_id}.{final_table.table_id}\")"
   ]
  },
  {
   "cell_type": "code",
   "execution_count": 323,
   "id": "8aa8ce3a-97ca-445c-87c4-ec6828ba356c",
   "metadata": {
    "tags": []
   },
   "outputs": [],
   "source": [
    "query = f\"\"\"\n",
    "WITH search_results AS (\n",
    "  SELECT base.article_number AS article_number, base.article_title as article_title, base.chunk_data as chunk_data, distance\n",
    "  FROM VECTOR_SEARCH(\n",
    "    TABLE `{rag_table}`, 'embeddings',\n",
    "    (SELECT {question_embedding} AS embeddings, 'query_vector' AS file_id),\n",
    "    top_k => 2, distance_type => 'DOT_PRODUCT', options => '{{\"use_brute_force\": true}}'\n",
    "    )\n",
    ")\n",
    "SELECT sr.article_number, sr.article_title, sr.distance, sr.chunk_data\n",
    "FROM search_results sr\n",
    "ORDER BY sr.distance ASC\n",
    "\"\"\"\n",
    "\n",
    "query_job = client.query(query)\n",
    "results = query_job.result()"
   ]
  },
  {
   "cell_type": "code",
   "execution_count": 324,
   "id": "430a802b-a94d-4bef-b086-848ad3d75bac",
   "metadata": {
    "tags": []
   },
   "outputs": [
    {
     "name": "stdout",
     "output_type": "stream",
     "text": [
      "Article Number: 3, Article Title: Definitions, distance: -0.6742176865363544, text: Chapter: GENERAL PROVISIONS\n",
      " Section: nan\n",
      " Article: Definitions\n",
      " For the purposes of this Regulation\n",
      "Article Number: 3, Article Title: Definitions, distance: -0.6615519481079747, text: Chapter: GENERAL PROVISIONS\n",
      " Section: nan\n",
      " Article: Definitions (continuation)\n",
      "emotions or intention\n"
     ]
    }
   ],
   "source": [
    "for row in results:\n",
    "    print(f\"Article Number: {row['article_number']}, Article Title: {row['article_title']}, distance: {row['distance']}, text: {row['chunk_data'][0:100]}\")"
   ]
  },
  {
   "cell_type": "code",
   "execution_count": null,
   "id": "9e655947-3f52-4a2e-b3c2-a185a4f203ca",
   "metadata": {},
   "outputs": [],
   "source": []
  }
 ],
 "metadata": {
  "environment": {
   "kernel": "python3",
   "name": "common-cpu.m125",
   "type": "gcloud",
   "uri": "us-docker.pkg.dev/deeplearning-platform-release/gcr.io/base-cpu:m125"
  },
  "kernelspec": {
   "display_name": "Python 3 (Local)",
   "language": "python",
   "name": "python3"
  },
  "language_info": {
   "codemirror_mode": {
    "name": "ipython",
    "version": 3
   },
   "file_extension": ".py",
   "mimetype": "text/x-python",
   "name": "python",
   "nbconvert_exporter": "python",
   "pygments_lexer": "ipython3",
   "version": "3.10.15"
  }
 },
 "nbformat": 4,
 "nbformat_minor": 5
}
